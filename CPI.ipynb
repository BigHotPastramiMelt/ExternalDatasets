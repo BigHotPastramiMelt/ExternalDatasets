# extract CPI data from bls.gov 
# need seriesID (e.g. seriesID CUURA207SAF "Food and Beverages" portion of CPI, monthly values, 

import requests
import json
headers = {'Content-type': 'application/json'}
data = json.dumps({"seriesid": ['CUURA207SAF'],"startyear":"2013", "endyear":"2015"})
p = requests.post('http://api.bls.gov/publicAPI/v2/timeseries/data/', data=data, headers=headers)
json_data = json.loads(p.text)
for series in json_data['Results']['series']:
    seriesId = series['seriesID']
    for item in series['data']:
        year = item['year']
        period = item['period']
        value = item['value']
        print year, period, value 
